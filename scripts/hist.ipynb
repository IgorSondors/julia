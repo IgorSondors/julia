{
 "cells": [
  {
   "cell_type": "code",
   "execution_count": 1,
   "metadata": {},
   "outputs": [],
   "source": [
    "import pandas as pd\n",
    "csv_train = '/home/ubuntu/camera_spoofing/lossless_unified/lossless_train_10012023_10random_crops.csv'\n",
    "csv_test = '/home/ubuntu/camera_spoofing/lossless_unified/lossless_val_10012023_10random_crops.csv'"
   ]
  },
  {
   "cell_type": "code",
   "execution_count": 2,
   "metadata": {},
   "outputs": [],
   "source": [
    "def split_df_by_equal(df):\n",
    "    one_class_quantity = len(df)//250\n",
    "    delta = len(df) - 250 * one_class_quantity\n",
    "    new_classes_list = []\n",
    "    for i in range(250):\n",
    "        new_classes_list = new_classes_list + [ i for j in range(one_class_quantity)  ]\n",
    "    new_classes_list = new_classes_list + [249 for i in range(delta)]\n",
    "    return new_classes_list\n",
    "\n",
    "def df_sort_new_label(df):\n",
    "    df = df.sort_values('size')\n",
    "    new_classes_list = split_df_by_equal(df)\n",
    "    assert len(df) == len(new_classes_list)\n",
    "    df['label'] = new_classes_list\n",
    "    return df\n",
    "\n",
    "def df_shuffle_relabel(df):\n",
    "    df0 = df[df['spoof'] == 0]\n",
    "    df1 = df[df['spoof'] == 1]\n",
    "\n",
    "    print('df0')\n",
    "    print(df0)\n",
    "    df0 = df_sort_new_label(df0)\n",
    "    print(df0)\n",
    "\n",
    "    print('df1')\n",
    "    print(df1)\n",
    "    df1 = df_sort_new_label(df1)\n",
    "    df1['label'] = df1['label'] + 250\n",
    "    print(df1)\n",
    "\n",
    "    df = pd.concat([df0, df1], ignore_index=True, sort=False)\n",
    "    df = df.sample(frac=1).reset_index(drop=True)\n",
    "    return df"
   ]
  },
  {
   "cell_type": "code",
   "execution_count": 3,
   "metadata": {},
   "outputs": [
    {
     "data": {
      "text/html": [
       "<div>\n",
       "<style scoped>\n",
       "    .dataframe tbody tr th:only-of-type {\n",
       "        vertical-align: middle;\n",
       "    }\n",
       "\n",
       "    .dataframe tbody tr th {\n",
       "        vertical-align: top;\n",
       "    }\n",
       "\n",
       "    .dataframe thead th {\n",
       "        text-align: right;\n",
       "    }\n",
       "</style>\n",
       "<table border=\"1\" class=\"dataframe\">\n",
       "  <thead>\n",
       "    <tr style=\"text-align: right;\">\n",
       "      <th></th>\n",
       "      <th>file</th>\n",
       "      <th>spoof</th>\n",
       "    </tr>\n",
       "  </thead>\n",
       "  <tbody>\n",
       "    <tr>\n",
       "      <th>0</th>\n",
       "      <td>/home/ubuntu/camera_spoofing/lossless_unified/...</td>\n",
       "      <td>1</td>\n",
       "    </tr>\n",
       "    <tr>\n",
       "      <th>1</th>\n",
       "      <td>/home/ubuntu/camera_spoofing/lossless_unified/...</td>\n",
       "      <td>0</td>\n",
       "    </tr>\n",
       "    <tr>\n",
       "      <th>2</th>\n",
       "      <td>/home/ubuntu/camera_spoofing/lossless_unified/...</td>\n",
       "      <td>1</td>\n",
       "    </tr>\n",
       "    <tr>\n",
       "      <th>3</th>\n",
       "      <td>/home/ubuntu/camera_spoofing/lossless_unified/...</td>\n",
       "      <td>0</td>\n",
       "    </tr>\n",
       "    <tr>\n",
       "      <th>4</th>\n",
       "      <td>/home/ubuntu/camera_spoofing/lossless_unified/...</td>\n",
       "      <td>1</td>\n",
       "    </tr>\n",
       "    <tr>\n",
       "      <th>...</th>\n",
       "      <td>...</td>\n",
       "      <td>...</td>\n",
       "    </tr>\n",
       "    <tr>\n",
       "      <th>5724835</th>\n",
       "      <td>/home/ubuntu/camera_spoofing/lossless_unified/...</td>\n",
       "      <td>1</td>\n",
       "    </tr>\n",
       "    <tr>\n",
       "      <th>5724836</th>\n",
       "      <td>/home/ubuntu/camera_spoofing/lossless_unified/...</td>\n",
       "      <td>1</td>\n",
       "    </tr>\n",
       "    <tr>\n",
       "      <th>5724837</th>\n",
       "      <td>/home/ubuntu/camera_spoofing/lossless_unified/...</td>\n",
       "      <td>0</td>\n",
       "    </tr>\n",
       "    <tr>\n",
       "      <th>5724838</th>\n",
       "      <td>/home/ubuntu/camera_spoofing/lossless_unified/...</td>\n",
       "      <td>0</td>\n",
       "    </tr>\n",
       "    <tr>\n",
       "      <th>5724839</th>\n",
       "      <td>/home/ubuntu/camera_spoofing/lossless_unified/...</td>\n",
       "      <td>0</td>\n",
       "    </tr>\n",
       "  </tbody>\n",
       "</table>\n",
       "<p>5724840 rows × 2 columns</p>\n",
       "</div>"
      ],
      "text/plain": [
       "                                                      file  spoof\n",
       "0        /home/ubuntu/camera_spoofing/lossless_unified/...      1\n",
       "1        /home/ubuntu/camera_spoofing/lossless_unified/...      0\n",
       "2        /home/ubuntu/camera_spoofing/lossless_unified/...      1\n",
       "3        /home/ubuntu/camera_spoofing/lossless_unified/...      0\n",
       "4        /home/ubuntu/camera_spoofing/lossless_unified/...      1\n",
       "...                                                    ...    ...\n",
       "5724835  /home/ubuntu/camera_spoofing/lossless_unified/...      1\n",
       "5724836  /home/ubuntu/camera_spoofing/lossless_unified/...      1\n",
       "5724837  /home/ubuntu/camera_spoofing/lossless_unified/...      0\n",
       "5724838  /home/ubuntu/camera_spoofing/lossless_unified/...      0\n",
       "5724839  /home/ubuntu/camera_spoofing/lossless_unified/...      0\n",
       "\n",
       "[5724840 rows x 2 columns]"
      ]
     },
     "execution_count": 3,
     "metadata": {},
     "output_type": "execute_result"
    }
   ],
   "source": [
    "df = pd.read_csv(csv_train, sep=',')\n",
    "df"
   ]
  },
  {
   "cell_type": "code",
   "execution_count": 6,
   "metadata": {},
   "outputs": [
    {
     "data": {
      "text/plain": [
       "<AxesSubplot: >"
      ]
     },
     "execution_count": 6,
     "metadata": {},
     "output_type": "execute_result"
    },
    {
     "data": {
      "image/png": "[encoded data removed]",
      "text/plain": [
       "<Figure size 700x300 with 1 Axes>"
      ]
     },
     "metadata": {},
     "output_type": "display_data"
    }
   ],
   "source": [
    "df['spoof'].hist(bins = 100, figsize = (7, 3))"
   ]
  },
  {
   "cell_type": "code",
   "execution_count": 7,
   "metadata": {},
   "outputs": [
    {
     "data": {
      "text/html": [
       "<div>\n",
       "<style scoped>\n",
       "    .dataframe tbody tr th:only-of-type {\n",
       "        vertical-align: middle;\n",
       "    }\n",
       "\n",
       "    .dataframe tbody tr th {\n",
       "        vertical-align: top;\n",
       "    }\n",
       "\n",
       "    .dataframe thead th {\n",
       "        text-align: right;\n",
       "    }\n",
       "</style>\n",
       "<table border=\"1\" class=\"dataframe\">\n",
       "  <thead>\n",
       "    <tr style=\"text-align: right;\">\n",
       "      <th></th>\n",
       "      <th>file</th>\n",
       "      <th>spoof</th>\n",
       "    </tr>\n",
       "  </thead>\n",
       "  <tbody>\n",
       "    <tr>\n",
       "      <th>0</th>\n",
       "      <td>/home/ubuntu/camera_spoofing/lossless_unified/...</td>\n",
       "      <td>0</td>\n",
       "    </tr>\n",
       "    <tr>\n",
       "      <th>1</th>\n",
       "      <td>/home/ubuntu/camera_spoofing/lossless_unified/...</td>\n",
       "      <td>1</td>\n",
       "    </tr>\n",
       "    <tr>\n",
       "      <th>2</th>\n",
       "      <td>/home/ubuntu/camera_spoofing/lossless_unified/...</td>\n",
       "      <td>1</td>\n",
       "    </tr>\n",
       "    <tr>\n",
       "      <th>3</th>\n",
       "      <td>/home/ubuntu/camera_spoofing/lossless_unified/...</td>\n",
       "      <td>1</td>\n",
       "    </tr>\n",
       "    <tr>\n",
       "      <th>4</th>\n",
       "      <td>/home/ubuntu/camera_spoofing/lossless_unified/...</td>\n",
       "      <td>1</td>\n",
       "    </tr>\n",
       "    <tr>\n",
       "      <th>...</th>\n",
       "      <td>...</td>\n",
       "      <td>...</td>\n",
       "    </tr>\n",
       "    <tr>\n",
       "      <th>53535</th>\n",
       "      <td>/home/ubuntu/camera_spoofing/lossless_unified/...</td>\n",
       "      <td>1</td>\n",
       "    </tr>\n",
       "    <tr>\n",
       "      <th>53536</th>\n",
       "      <td>/home/ubuntu/camera_spoofing/lossless_unified/...</td>\n",
       "      <td>0</td>\n",
       "    </tr>\n",
       "    <tr>\n",
       "      <th>53537</th>\n",
       "      <td>/home/ubuntu/camera_spoofing/lossless_unified/...</td>\n",
       "      <td>0</td>\n",
       "    </tr>\n",
       "    <tr>\n",
       "      <th>53538</th>\n",
       "      <td>/home/ubuntu/camera_spoofing/lossless_unified/...</td>\n",
       "      <td>1</td>\n",
       "    </tr>\n",
       "    <tr>\n",
       "      <th>53539</th>\n",
       "      <td>/home/ubuntu/camera_spoofing/lossless_unified/...</td>\n",
       "      <td>0</td>\n",
       "    </tr>\n",
       "  </tbody>\n",
       "</table>\n",
       "<p>53540 rows × 2 columns</p>\n",
       "</div>"
      ],
      "text/plain": [
       "                                                    file  spoof\n",
       "0      /home/ubuntu/camera_spoofing/lossless_unified/...      0\n",
       "1      /home/ubuntu/camera_spoofing/lossless_unified/...      1\n",
       "2      /home/ubuntu/camera_spoofing/lossless_unified/...      1\n",
       "3      /home/ubuntu/camera_spoofing/lossless_unified/...      1\n",
       "4      /home/ubuntu/camera_spoofing/lossless_unified/...      1\n",
       "...                                                  ...    ...\n",
       "53535  /home/ubuntu/camera_spoofing/lossless_unified/...      1\n",
       "53536  /home/ubuntu/camera_spoofing/lossless_unified/...      0\n",
       "53537  /home/ubuntu/camera_spoofing/lossless_unified/...      0\n",
       "53538  /home/ubuntu/camera_spoofing/lossless_unified/...      1\n",
       "53539  /home/ubuntu/camera_spoofing/lossless_unified/...      0\n",
       "\n",
       "[53540 rows x 2 columns]"
      ]
     },
     "execution_count": 7,
     "metadata": {},
     "output_type": "execute_result"
    }
   ],
   "source": [
    "df_test = pd.read_csv(csv_test, sep=',')\n",
    "df_test"
   ]
  },
  {
   "cell_type": "code",
   "execution_count": 8,
   "metadata": {},
   "outputs": [
    {
     "data": {
      "text/plain": [
       "<AxesSubplot: >"
      ]
     },
     "execution_count": 8,
     "metadata": {},
     "output_type": "execute_result"
    },
    {
     "data": {
      "image/png": "[encoded data removed]",
      "text/plain": [
       "<Figure size 700x300 with 1 Axes>"
      ]
     },
     "metadata": {},
     "output_type": "display_data"
    }
   ],
   "source": [
    "df_test['spoof'].hist(bins = 100, figsize = (7, 3))"
   ]
  },
  {
   "cell_type": "code",
   "execution_count": 9,
   "metadata": {},
   "outputs": [
    {
     "data": {
      "text/plain": [
       "1    29470\n",
       "0    24070\n",
       "Name: spoof, dtype: int64"
      ]
     },
     "execution_count": 9,
     "metadata": {},
     "output_type": "execute_result"
    }
   ],
   "source": [
    "df_test['spoof'].value_counts()"
   ]
  }
 ],
 "metadata": {
  "kernelspec": {
   "display_name": "py39",
   "language": "python",
   "name": "python3"
  },
  "language_info": {
   "codemirror_mode": {
    "name": "ipython",
    "version": 3
   },
   "file_extension": ".py",
   "mimetype": "text/x-python",
   "name": "python",
   "nbconvert_exporter": "python",
   "pygments_lexer": "ipython3",
   "version": "3.9.15"
  },
  "orig_nbformat": 4,
  "vscode": {
   "interpreter": {
    "hash": "31ffcf7a35e8fb622d3a4bd4bd659d058512ef6f478d0fb17b526c56291289f9"
   }
  }
 },
 "nbformat": 4,
 "nbformat_minor": 2
}
