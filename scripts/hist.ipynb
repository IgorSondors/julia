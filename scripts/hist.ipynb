{
 "cells": [
  {
   "cell_type": "code",
   "execution_count": 1,
   "metadata": {},
   "outputs": [],
   "source": [
    "import pandas as pd\n",
    "csv_train = '/mnt/data/lossless_train_04102022_crops_sizes.csv'\n",
    "csv_test = '/mnt/data/lossless_val_04102022_crops_sizes.csv'"
   ]
  },
  {
   "cell_type": "code",
   "execution_count": 2,
   "metadata": {},
   "outputs": [
    {
     "name": "stdout",
     "output_type": "stream",
     "text": [
      "                                                      file  spoof     size\n",
      "0        /mnt/data/lossless_train_04102022_crops/1/many...      1  12818.0\n",
      "1        /mnt/data/lossless_train_04102022_crops/1/edge...      1  18722.0\n",
      "2        /mnt/data/lossless_train_04102022_crops/0/abdf...      0  18875.0\n",
      "3        /mnt/data/lossless_train_04102022_crops/1/droi...      1  12061.0\n",
      "4        /mnt/data/lossless_train_04102022_crops/0/bfe6...      0  20401.0\n",
      "...                                                    ...    ...      ...\n",
      "5644715  /mnt/data/lossless_train_04102022_crops/0/ccda...      0  18924.0\n",
      "5644716  /mnt/data/lossless_train_04102022_crops/0/0eb3...      0  19079.0\n",
      "5644717  /mnt/data/lossless_train_04102022_crops/0/91e7...      0  23125.0\n",
      "5644718  /mnt/data/lossless_train_04102022_crops/0/2e41...      0  22439.0\n",
      "5644719  /mnt/data/lossless_train_04102022_crops/1/olda...      1  28509.0\n",
      "\n",
      "[5644720 rows x 3 columns]\n"
     ]
    }
   ],
   "source": [
    "df = pd.read_csv(csv_train, sep=',')\n",
    "df"
   ]
  },
  {
   "cell_type": "code",
   "execution_count": 3,
   "metadata": {},
   "outputs": [
    {
     "data": {
      "text/plain": [
       "<AxesSubplot: >"
      ]
     },
     "execution_count": 3,
     "metadata": {},
     "output_type": "execute_result"
    },
    {
     "data": {
      "image/png": "[encoded data removed]",
      "text/plain": [
       "<Figure size 700x300 with 1 Axes>"
      ]
     },
     "metadata": {},
     "output_type": "display_data"
    }
   ],
   "source": [
    "df['size'].hist(bins = 100, figsize = (7, 3))"
   ]
  }
 ],
 "metadata": {
  "kernelspec": {
   "display_name": "Python 3.8.13 ('cntr': conda)",
   "language": "python",
   "name": "python3"
  },
  "language_info": {
   "codemirror_mode": {
    "name": "ipython",
    "version": 3
   },
   "file_extension": ".py",
   "mimetype": "text/x-python",
   "name": "python",
   "nbconvert_exporter": "python",
   "pygments_lexer": "ipython3",
   "version": "3.8.13"
  },
  "orig_nbformat": 4,
  "vscode": {
   "interpreter": {
    "hash": "e239af3f178541bf16f3f0ffd157d1ded7e8b6d1486e113b5b856bb46d595992"
   }
  }
 },
 "nbformat": 4,
 "nbformat_minor": 2
}
